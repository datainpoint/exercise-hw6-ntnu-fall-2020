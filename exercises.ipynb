{
 "cells": [
  {
   "cell_type": "markdown",
   "metadata": {
    "deletable": false,
    "editable": false
   },
   "source": [
    "##  Python Data Science\n",
    "\n",
    "> Exercises: Homework 6, NTNU, fall, 2020.\n",
    "\n",
    "Kuo, Yao-Jen <yaojenkuo@datainpoint.com> from [DATAINPOINT](https://www.datainpoint.com)"
   ]
  },
  {
   "cell_type": "code",
   "execution_count": 1,
   "metadata": {
    "deletable": false,
    "editable": false
   },
   "outputs": [],
   "source": [
    "import pandas as pd"
   ]
  },
  {
   "cell_type": "markdown",
   "metadata": {},
   "source": [
    "## Define a function named `get_olympic_df` that is able to import a csv file as a pandas DataFrame.\n",
    "\n",
    "- Expected inputs: a CSV file `all_time_olympic_medals.csv`.\n",
    "- Expected outputs: a (153, 17) DataFrame."
   ]
  },
  {
   "cell_type": "code",
   "execution_count": 2,
   "metadata": {},
   "outputs": [],
   "source": [
    "def get_olympic_df(csv_file_path):\n",
    "    \"\"\"\n",
    "    >>> olympic_df = get_olympic_df('all_time_olympic_medals.csv')\n",
    "    >>> print(type(olympic_df))\n",
    "    <class 'pandas.core.frame.DataFrame'>\n",
    "    >>> print(olympic_df.shape)\n",
    "    (153, 17)\n",
    "    \"\"\"\n",
    "    ### BEGIN SOLUTION\n",
    "    ### END SOLUTION"
   ]
  },
  {
   "cell_type": "markdown",
   "metadata": {},
   "source": [
    "## Define a function named `find_taiwan` that is able to retrieve the data of Taiwan as a pandas DataFrame.\n",
    "\n",
    "- Expected inputs: a CSV file `all_time_olympic_medals.csv`.\n",
    "- Expected outputs: a (1, 17) DataFrame.\n",
    "\n",
    "Note: Taiwan might not be \"Taiwan\" in Olympic data."
   ]
  },
  {
   "cell_type": "code",
   "execution_count": 3,
   "metadata": {},
   "outputs": [],
   "source": [
    "def find_taiwan(csv_file_path):\n",
    "    \"\"\"\n",
    "    >>> taiwan = find_taiwan('all_time_olympic_medals.csv')\n",
    "    >>> print(type(taiwan))\n",
    "    <class 'pandas.core.frame.DataFrame'>\n",
    "    >>> print(taiwan.shape)\n",
    "    (1, 17)\n",
    "    >>> print(taiwan['team_name'].values[0])\n",
    "    'Chinese Taipei'\n",
    "    \"\"\"\n",
    "    ### BEGIN SOLUTION\n",
    "    ### END SOLUTION"
   ]
  },
  {
   "cell_type": "markdown",
   "metadata": {},
   "source": [
    "## Define a function named `find_the_king_of_summer_olympics` that is able to retrieve the data of the country that won the most gold medals in summer Olympics.\n",
    "\n",
    "- Expected inputs: a CSV file `all_time_olympic_medals.csv`.\n",
    "- Expected outputs: a (1, 17) DataFrame."
   ]
  },
  {
   "cell_type": "code",
   "execution_count": 4,
   "metadata": {},
   "outputs": [],
   "source": [
    "def find_the_king_of_summer_olympics(csv_file_path):\n",
    "    \"\"\"\n",
    "    >>> the_king_of_summer_olympics = find_the_king_of_summer_olympics('all_time_olympic_medals.csv')\n",
    "    >>> print(type(the_king_of_summer_olympics))\n",
    "    <class 'pandas.core.frame.DataFrame'>\n",
    "    >>> print(the_king_of_summer_olympics.shape)\n",
    "    (1, 17)\n",
    "    >>> print(the_king_of_summer_olympics['no_summer_golds'].values[0])\n",
    "    1022\n",
    "    >>> print(the_king_of_summer_olympics['team_name'].values[0])\n",
    "    'United States'\n",
    "    \"\"\"\n",
    "    ### BEGIN SOLUTION\n",
    "    ### END SOLUTION"
   ]
  },
  {
   "cell_type": "markdown",
   "metadata": {},
   "source": [
    "## Define a function named `find_the_king_of_winter_olympics` that is able to retrieve the data of the country that won the most gold medals in winter Olympics.\n",
    "\n",
    "- Expected inputs: a CSV file `all_time_olympic_medals.csv`.\n",
    "- Expected outputs: a (1, 17) DataFrame."
   ]
  },
  {
   "cell_type": "code",
   "execution_count": 5,
   "metadata": {},
   "outputs": [],
   "source": [
    "def find_the_king_of_winter_olympics(csv_file_path):\n",
    "    \"\"\"\n",
    "    >>> the_king_of_winter_olympics = find_the_king_of_winter_olympics('all_time_olympic_medals.csv')\n",
    "    >>> print(type(the_king_of_winter_olympics))\n",
    "    <class 'pandas.core.frame.DataFrame'>\n",
    "    >>> print(the_king_of_winter_olympics.shape)\n",
    "    (1, 17)\n",
    "    >>> print(the_king_of_winter_olympics['no_winter_golds'].values[0])\n",
    "    132\n",
    "    >>> print(the_king_of_winter_olympics['team_name'].values[0])\n",
    "    'Norway'\n",
    "    \"\"\"\n",
    "    ### BEGIN SOLUTION\n",
    "    ### END SOLUTION"
   ]
  },
  {
   "cell_type": "markdown",
   "metadata": {},
   "source": [
    "## Define a function named `find_largest_ratio` that is able to retrieve the data of the country that has the largest ratio which is calculated as:\n",
    "\n",
    "\\begin{equation}\n",
    "\\text{Ratio} = \\frac{\\text{Summer Gold} - \\text{Winter Gold}}{\\text{Total Gold}}\n",
    "\\end{equation}\n",
    "\n",
    "- Expected inputs: a CSV file `all_time_olympic_medals.csv`.\n",
    "- Expected outputs: a Series of size 17.\n",
    "\n",
    "Note: You have to exclude the countries with ratio calculated as 1."
   ]
  },
  {
   "cell_type": "code",
   "execution_count": 6,
   "metadata": {},
   "outputs": [],
   "source": [
    "def find_largest_ratio(csv_file_path):\n",
    "    \"\"\"\n",
    "    >>> largest_ratio = find_largest_ratio('all_time_olympic_medals.csv')\n",
    "    >>> print(type(largest_ratio))\n",
    "    <class 'pandas.core.series.Series'>\n",
    "    >>> print(largest_ratio.size)\n",
    "    17\n",
    "    >>> print(largest_ratio['team_name']\n",
    "    'Hungary'\n",
    "    \"\"\"\n",
    "    ### BEGIN SOLUTION\n",
    "    ### END SOLUTION"
   ]
  },
  {
   "cell_type": "markdown",
   "metadata": {
    "deletable": false,
    "editable": false
   },
   "source": [
    "## Run tests!\n",
    "\n",
    "Kernel -> Restart & Run All."
   ]
  },
  {
   "cell_type": "code",
   "execution_count": 7,
   "metadata": {
    "deletable": false,
    "editable": false
   },
   "outputs": [
    {
     "name": "stderr",
     "output_type": "stream",
     "text": [
      "test_find_largest_ratio (__main__.TestBasicPandas) ... FAIL\n",
      "test_find_taiwan (__main__.TestBasicPandas) ... FAIL\n",
      "test_find_the_king_of_summer_olympics (__main__.TestBasicPandas) ... FAIL\n",
      "test_find_the_king_of_winter_olympics (__main__.TestBasicPandas) ... FAIL\n",
      "test_get_olympic_df (__main__.TestBasicPandas) ... FAIL\n",
      "\n",
      "======================================================================\n",
      "FAIL: test_find_largest_ratio (__main__.TestBasicPandas)\n",
      "----------------------------------------------------------------------\n",
      "Traceback (most recent call last):\n",
      "  File \"<ipython-input-7-8e1c35768078>\", line 27, in test_find_largest_ratio\n",
      "    self.assertIsInstance(largest_ratio, pd.core.series.Series)\n",
      "AssertionError: None is not an instance of <class 'pandas.core.series.Series'>\n",
      "\n",
      "======================================================================\n",
      "FAIL: test_find_taiwan (__main__.TestBasicPandas)\n",
      "----------------------------------------------------------------------\n",
      "Traceback (most recent call last):\n",
      "  File \"<ipython-input-7-8e1c35768078>\", line 10, in test_find_taiwan\n",
      "    self.assertIsInstance(taiwan, pd.core.frame.DataFrame)\n",
      "AssertionError: None is not an instance of <class 'pandas.core.frame.DataFrame'>\n",
      "\n",
      "======================================================================\n",
      "FAIL: test_find_the_king_of_summer_olympics (__main__.TestBasicPandas)\n",
      "----------------------------------------------------------------------\n",
      "Traceback (most recent call last):\n",
      "  File \"<ipython-input-7-8e1c35768078>\", line 15, in test_find_the_king_of_summer_olympics\n",
      "    self.assertIsInstance(the_king_of_summer_olympics, pd.core.frame.DataFrame)\n",
      "AssertionError: None is not an instance of <class 'pandas.core.frame.DataFrame'>\n",
      "\n",
      "======================================================================\n",
      "FAIL: test_find_the_king_of_winter_olympics (__main__.TestBasicPandas)\n",
      "----------------------------------------------------------------------\n",
      "Traceback (most recent call last):\n",
      "  File \"<ipython-input-7-8e1c35768078>\", line 21, in test_find_the_king_of_winter_olympics\n",
      "    self.assertIsInstance(the_king_of_winter_olympics, pd.core.frame.DataFrame)\n",
      "AssertionError: None is not an instance of <class 'pandas.core.frame.DataFrame'>\n",
      "\n",
      "======================================================================\n",
      "FAIL: test_get_olympic_df (__main__.TestBasicPandas)\n",
      "----------------------------------------------------------------------\n",
      "Traceback (most recent call last):\n",
      "  File \"<ipython-input-7-8e1c35768078>\", line 6, in test_get_olympic_df\n",
      "    self.assertIsInstance(olympic_df, pd.core.frame.DataFrame)\n",
      "AssertionError: None is not an instance of <class 'pandas.core.frame.DataFrame'>\n",
      "\n",
      "----------------------------------------------------------------------\n",
      "Ran 5 tests in 0.034s\n",
      "\n",
      "FAILED (failures=5)\n"
     ]
    }
   ],
   "source": [
    "import unittest\n",
    "\n",
    "class TestBasicPandas(unittest.TestCase):\n",
    "    def test_get_olympic_df(self):\n",
    "        olympic_df = get_olympic_df('all_time_olympic_medals.csv')\n",
    "        self.assertIsInstance(olympic_df, pd.core.frame.DataFrame)\n",
    "        self.assertEqual(olympic_df.shape, (153, 17))\n",
    "    def test_find_taiwan(self):\n",
    "        taiwan = find_taiwan('all_time_olympic_medals.csv')\n",
    "        self.assertIsInstance(taiwan, pd.core.frame.DataFrame)\n",
    "        self.assertEqual(taiwan.shape, (1, 17))\n",
    "        self.assertEqual(taiwan['team_name'].values[0], 'Chinese Taipei')\n",
    "    def test_find_the_king_of_summer_olympics(self):\n",
    "        the_king_of_summer_olympics = find_the_king_of_summer_olympics('all_time_olympic_medals.csv')\n",
    "        self.assertIsInstance(the_king_of_summer_olympics, pd.core.frame.DataFrame)\n",
    "        self.assertEqual(the_king_of_summer_olympics.shape, (1, 17))\n",
    "        self.assertEqual(the_king_of_summer_olympics['no_summer_golds'].values[0], 1022)\n",
    "        self.assertEqual(the_king_of_summer_olympics['team_name'].values[0], 'United States')\n",
    "    def test_find_the_king_of_winter_olympics(self):\n",
    "        the_king_of_winter_olympics = find_the_king_of_winter_olympics('all_time_olympic_medals.csv')\n",
    "        self.assertIsInstance(the_king_of_winter_olympics, pd.core.frame.DataFrame)\n",
    "        self.assertEqual(the_king_of_winter_olympics.shape, (1, 17))\n",
    "        self.assertEqual(the_king_of_winter_olympics['no_winter_golds'].values[0], 132)\n",
    "        self.assertEqual(the_king_of_winter_olympics['team_name'].values[0], 'Norway')\n",
    "    def test_find_largest_ratio(self):\n",
    "        largest_ratio = find_largest_ratio('all_time_olympic_medals.csv')\n",
    "        self.assertIsInstance(largest_ratio, pd.core.series.Series)\n",
    "        self.assertEqual(largest_ratio.size, 17)\n",
    "        self.assertEqual(largest_ratio['team_name'], 'Hungary')\n",
    "\n",
    "suite = unittest.TestLoader().loadTestsFromTestCase(TestBasicPandas)\n",
    "runner = unittest.TextTestRunner(verbosity=2)\n",
    "test_results = runner.run(suite)\n",
    "number_of_failures = len(test_results.failures)\n",
    "number_of_errors = len(test_results.errors)\n",
    "number_of_test_runs = test_results.testsRun\n",
    "number_of_successes = number_of_test_runs - (number_of_failures + number_of_errors)\n",
    "total_points = number_of_successes * 5"
   ]
  },
  {
   "cell_type": "code",
   "execution_count": 8,
   "metadata": {
    "deletable": false,
    "editable": false
   },
   "outputs": [
    {
     "name": "stdout",
     "output_type": "stream",
     "text": [
      "You've got 0 successes with 0 points.\n"
     ]
    }
   ],
   "source": [
    "print(\"You've got {} successes with {} points.\".format(number_of_successes, total_points))"
   ]
  }
 ],
 "metadata": {
  "kernelspec": {
   "display_name": "Python Data Analysis",
   "language": "python",
   "name": "pyda"
  },
  "language_info": {
   "codemirror_mode": {
    "name": "ipython",
    "version": 3
   },
   "file_extension": ".py",
   "mimetype": "text/x-python",
   "name": "python",
   "nbconvert_exporter": "python",
   "pygments_lexer": "ipython3",
   "version": "3.6.8"
  }
 },
 "nbformat": 4,
 "nbformat_minor": 4
}
